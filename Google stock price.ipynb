{
 "cells": [
  {
   "cell_type": "code",
   "execution_count": 2,
   "metadata": {},
   "outputs": [],
   "source": [
    "import numpy as np \n",
    "import pandas as pd \n",
    "import matplotlib.pyplot as plt \n",
    "%matplotlib inline\n",
    "from sklearn.preprocessing import MinMaxScaler\n",
    "from keras.models import Sequential\n",
    "\n",
    "import plotly.graph_objs as go\n",
    "from keras.layers import Dense,LSTM,Dropout\n",
    " "
   ]
  },
  {
   "cell_type": "code",
   "execution_count": 3,
   "metadata": {},
   "outputs": [
    {
     "data": {
      "text/html": [
       "<div>\n",
       "<style scoped>\n",
       "    .dataframe tbody tr th:only-of-type {\n",
       "        vertical-align: middle;\n",
       "    }\n",
       "\n",
       "    .dataframe tbody tr th {\n",
       "        vertical-align: top;\n",
       "    }\n",
       "\n",
       "    .dataframe thead th {\n",
       "        text-align: right;\n",
       "    }\n",
       "</style>\n",
       "<table border=\"1\" class=\"dataframe\">\n",
       "  <thead>\n",
       "    <tr style=\"text-align: right;\">\n",
       "      <th></th>\n",
       "      <th>Date</th>\n",
       "      <th>Open</th>\n",
       "      <th>High</th>\n",
       "      <th>Low</th>\n",
       "      <th>Close</th>\n",
       "      <th>Volume</th>\n",
       "    </tr>\n",
       "  </thead>\n",
       "  <tbody>\n",
       "    <tr>\n",
       "      <th>0</th>\n",
       "      <td>1/3/2012</td>\n",
       "      <td>325.25</td>\n",
       "      <td>332.83</td>\n",
       "      <td>324.97</td>\n",
       "      <td>663.59</td>\n",
       "      <td>7,380,500</td>\n",
       "    </tr>\n",
       "    <tr>\n",
       "      <th>1</th>\n",
       "      <td>1/4/2012</td>\n",
       "      <td>331.27</td>\n",
       "      <td>333.87</td>\n",
       "      <td>329.08</td>\n",
       "      <td>666.45</td>\n",
       "      <td>5,749,400</td>\n",
       "    </tr>\n",
       "    <tr>\n",
       "      <th>2</th>\n",
       "      <td>1/5/2012</td>\n",
       "      <td>329.83</td>\n",
       "      <td>330.75</td>\n",
       "      <td>326.89</td>\n",
       "      <td>657.21</td>\n",
       "      <td>6,590,300</td>\n",
       "    </tr>\n",
       "    <tr>\n",
       "      <th>3</th>\n",
       "      <td>1/6/2012</td>\n",
       "      <td>328.34</td>\n",
       "      <td>328.77</td>\n",
       "      <td>323.68</td>\n",
       "      <td>648.24</td>\n",
       "      <td>5,405,900</td>\n",
       "    </tr>\n",
       "    <tr>\n",
       "      <th>4</th>\n",
       "      <td>1/9/2012</td>\n",
       "      <td>322.04</td>\n",
       "      <td>322.29</td>\n",
       "      <td>309.46</td>\n",
       "      <td>620.76</td>\n",
       "      <td>11,688,800</td>\n",
       "    </tr>\n",
       "  </tbody>\n",
       "</table>\n",
       "</div>"
      ],
      "text/plain": [
       "       Date    Open    High     Low   Close      Volume\n",
       "0  1/3/2012  325.25  332.83  324.97  663.59   7,380,500\n",
       "1  1/4/2012  331.27  333.87  329.08  666.45   5,749,400\n",
       "2  1/5/2012  329.83  330.75  326.89  657.21   6,590,300\n",
       "3  1/6/2012  328.34  328.77  323.68  648.24   5,405,900\n",
       "4  1/9/2012  322.04  322.29  309.46  620.76  11,688,800"
      ]
     },
     "execution_count": 3,
     "metadata": {},
     "output_type": "execute_result"
    }
   ],
   "source": [
    "data = pd.read_csv('Google_train_data.csv')\n",
    "data.head()"
   ]
  },
  {
   "cell_type": "code",
   "execution_count": 4,
   "metadata": {},
   "outputs": [
    {
     "name": "stdout",
     "output_type": "stream",
     "text": [
      "<class 'pandas.core.frame.DataFrame'>\n",
      "RangeIndex: 1258 entries, 0 to 1257\n",
      "Data columns (total 6 columns):\n",
      " #   Column  Non-Null Count  Dtype  \n",
      "---  ------  --------------  -----  \n",
      " 0   Date    1258 non-null   object \n",
      " 1   Open    1258 non-null   float64\n",
      " 2   High    1258 non-null   float64\n",
      " 3   Low     1258 non-null   float64\n",
      " 4   Close   1258 non-null   object \n",
      " 5   Volume  1258 non-null   object \n",
      "dtypes: float64(3), object(3)\n",
      "memory usage: 59.1+ KB\n"
     ]
    }
   ],
   "source": [
    "data.info()"
   ]
  },
  {
   "cell_type": "code",
   "execution_count": 5,
   "metadata": {},
   "outputs": [],
   "source": [
    "data[\"Close\"]=pd.to_numeric(data.Close,errors='coerce')\n",
    "data = data.dropna()\n",
    "trainData = data.iloc[:,4:5].values"
   ]
  },
  {
   "cell_type": "code",
   "execution_count": 6,
   "metadata": {},
   "outputs": [
    {
     "name": "stdout",
     "output_type": "stream",
     "text": [
      "<class 'pandas.core.frame.DataFrame'>\n",
      "Int64Index: 1149 entries, 0 to 1257\n",
      "Data columns (total 6 columns):\n",
      " #   Column  Non-Null Count  Dtype  \n",
      "---  ------  --------------  -----  \n",
      " 0   Date    1149 non-null   object \n",
      " 1   Open    1149 non-null   float64\n",
      " 2   High    1149 non-null   float64\n",
      " 3   Low     1149 non-null   float64\n",
      " 4   Close   1149 non-null   float64\n",
      " 5   Volume  1149 non-null   object \n",
      "dtypes: float64(4), object(2)\n",
      "memory usage: 62.8+ KB\n"
     ]
    }
   ],
   "source": [
    "data.info()"
   ]
  },
  {
   "cell_type": "code",
   "execution_count": 36,
   "metadata": {},
   "outputs": [
    {
     "data": {
      "text/plain": [
       "Text(0, 0.5, 'Price')"
      ]
     },
     "execution_count": 36,
     "metadata": {},
     "output_type": "execute_result"
    },
    {
     "data": {
      "image/png": "[encoded data removed]",
      "text/plain": [
       "<Figure size 432x288 with 1 Axes>"
      ]
     },
     "metadata": {
      "needs_background": "light"
     },
     "output_type": "display_data"
    }
   ],
   "source": [
    "##plotting the data where we can see the trend of the stock price open to close \n",
    "## plot the data of date where it is open to close\n",
    "plt.plot(data.Open,color='red',label='Open')\n",
    "plt.plot(data.Close,color='blue',label='Close')\n",
    "plt.title('Google Stock Price')\n",
    "plt.xlabel('Time')\n",
    "plt.ylabel('Price')\n"
   ]
  },
  {
   "cell_type": "code",
   "execution_count": 31,
   "metadata": {},
   "outputs": [
    {
     "data": {
      "image/png": "[encoded data removed]",
      "text/plain": [
       "<Figure size 432x288 with 1 Axes>"
      ]
     },
     "metadata": {
      "needs_background": "light"
     },
     "output_type": "display_data"
    }
   ],
   "source": [
    "plt.scatter(data.index,data.Close)\n",
    "plt.xlabel('Date')\n",
    "plt.ylabel('Close')\n",
    "plt.title('Google Stock Price')\n",
    "plt.show()  "
   ]
  },
  {
   "cell_type": "code",
   "execution_count": 7,
   "metadata": {},
   "outputs": [
    {
     "data": {
      "text/plain": [
       "(1149, 1)"
      ]
     },
     "execution_count": 7,
     "metadata": {},
     "output_type": "execute_result"
    }
   ],
   "source": [
    "sc = MinMaxScaler(feature_range=(0,1))\n",
    "trainData = sc.fit_transform(trainData)\n",
    "trainData.shape"
   ]
  },
  {
   "cell_type": "code",
   "execution_count": 8,
   "metadata": {},
   "outputs": [],
   "source": [
    "X_train = []\n",
    "y_train = []\n",
    "\n",
    "for i in range (60,1149): #60 : timestep // 1149 : length of the data\n",
    "    X_train.append(trainData[i-60:i,0]) \n",
    "    y_train.append(trainData[i,0])\n",
    "\n",
    "X_train,y_train = np.array(X_train),np.array(y_train)"
   ]
  },
  {
   "cell_type": "code",
   "execution_count": 9,
   "metadata": {},
   "outputs": [
    {
     "data": {
      "text/plain": [
       "(1089, 60, 1)"
      ]
     },
     "execution_count": 9,
     "metadata": {},
     "output_type": "execute_result"
    }
   ],
   "source": [
    "X_train = np.reshape(X_train,(X_train.shape[0],X_train.shape[1],1)) #adding the batch_size axis\n",
    "X_train.shape"
   ]
  },
  {
   "cell_type": "code",
   "execution_count": 10,
   "metadata": {},
   "outputs": [],
   "source": [
    "model = Sequential()\n",
    "\n",
    "model.add(LSTM(units=100, return_sequences = True, input_shape =(X_train.shape[1],1)))\n",
    "model.add(Dropout(0.2))\n",
    "\n",
    "model.add(LSTM(units=100, return_sequences = True))\n",
    "model.add(Dropout(0.2))\n",
    "\n",
    "model.add(LSTM(units=100, return_sequences = True))\n",
    "model.add(Dropout(0.2))\n",
    "\n",
    "model.add(LSTM(units=100, return_sequences = False))\n",
    "model.add(Dropout(0.2))\n",
    "\n",
    "model.add(Dense(units =1))\n",
    "model.compile(optimizer='adam',loss=\"mean_squared_error\")"
   ]
  },
  {
   "cell_type": "code",
   "execution_count": 11,
   "metadata": {},
   "outputs": [
    {
     "name": "stdout",
     "output_type": "stream",
     "text": [
      "Epoch 1/20\n",
      "35/35 - 9s - loss: 0.0280 - 9s/epoch - 256ms/step\n",
      "Epoch 2/20\n",
      "35/35 - 4s - loss: 0.0137 - 4s/epoch - 117ms/step\n",
      "Epoch 3/20\n",
      "35/35 - 4s - loss: 0.0081 - 4s/epoch - 118ms/step\n",
      "Epoch 4/20\n",
      "35/35 - 4s - loss: 0.0077 - 4s/epoch - 119ms/step\n",
      "Epoch 5/20\n",
      "35/35 - 4s - loss: 0.0071 - 4s/epoch - 116ms/step\n",
      "Epoch 6/20\n",
      "35/35 - 4s - loss: 0.0080 - 4s/epoch - 117ms/step\n",
      "Epoch 7/20\n",
      "35/35 - 4s - loss: 0.0076 - 4s/epoch - 128ms/step\n",
      "Epoch 8/20\n",
      "35/35 - 4s - loss: 0.0064 - 4s/epoch - 127ms/step\n",
      "Epoch 9/20\n",
      "35/35 - 4s - loss: 0.0070 - 4s/epoch - 107ms/step\n",
      "Epoch 10/20\n",
      "35/35 - 4s - loss: 0.0081 - 4s/epoch - 120ms/step\n",
      "Epoch 11/20\n",
      "35/35 - 4s - loss: 0.0066 - 4s/epoch - 120ms/step\n",
      "Epoch 12/20\n",
      "35/35 - 4s - loss: 0.0054 - 4s/epoch - 112ms/step\n",
      "Epoch 13/20\n",
      "35/35 - 4s - loss: 0.0051 - 4s/epoch - 122ms/step\n",
      "Epoch 14/20\n",
      "35/35 - 4s - loss: 0.0054 - 4s/epoch - 119ms/step\n",
      "Epoch 15/20\n",
      "35/35 - 4s - loss: 0.0055 - 4s/epoch - 116ms/step\n",
      "Epoch 16/20\n",
      "35/35 - 4s - loss: 0.0057 - 4s/epoch - 111ms/step\n",
      "Epoch 17/20\n",
      "35/35 - 4s - loss: 0.0052 - 4s/epoch - 119ms/step\n",
      "Epoch 18/20\n",
      "35/35 - 4s - loss: 0.0049 - 4s/epoch - 122ms/step\n",
      "Epoch 19/20\n",
      "35/35 - 4s - loss: 0.0049 - 4s/epoch - 124ms/step\n",
      "Epoch 20/20\n",
      "35/35 - 4s - loss: 0.0043 - 4s/epoch - 118ms/step\n"
     ]
    }
   ],
   "source": [
    "hist = model.fit(X_train, y_train, epochs = 20, batch_size = 32, verbose=2)"
   ]
  },
  {
   "cell_type": "code",
   "execution_count": 12,
   "metadata": {},
   "outputs": [
    {
     "data": {
      "image/png": "[encoded data removed]",
      "text/plain": [
       "<Figure size 432x288 with 1 Axes>"
      ]
     },
     "metadata": {
      "needs_background": "light"
     },
     "output_type": "display_data"
    }
   ],
   "source": [
    "plt.plot(hist.history['loss'])\n",
    "plt.title('Training model loss')\n",
    "plt.ylabel('loss')\n",
    "plt.xlabel('epoch')\n",
    "plt.legend(['train'], loc='upper left')\n",
    "plt.show()"
   ]
  },
  {
   "cell_type": "code",
   "execution_count": 13,
   "metadata": {},
   "outputs": [
    {
     "data": {
      "text/plain": [
       "(192, 60, 1)"
      ]
     },
     "execution_count": 13,
     "metadata": {},
     "output_type": "execute_result"
    }
   ],
   "source": [
    "testData = pd.read_csv('Google_test_data.csv')\n",
    "testData[\"Close\"]=pd.to_numeric(testData.Close,errors='coerce')\n",
    "testData = testData.dropna()\n",
    "testData = testData.iloc[:,4:5]\n",
    "y_test = testData.iloc[60:,0:].values \n",
    "#input array for the model\n",
    "inputClosing = testData.iloc[:,0:].values \n",
    "inputClosing_scaled = sc.transform(inputClosing)\n",
    "inputClosing_scaled.shape\n",
    "X_test = []\n",
    "length = len(testData)\n",
    "timestep = 60\n",
    "for i in range(timestep,length):  \n",
    "    X_test.append(inputClosing_scaled[i-timestep:i,0])\n",
    "X_test = np.array(X_test)\n",
    "X_test = np.reshape(X_test,(X_test.shape[0],X_test.shape[1],1))\n",
    "X_test.shape"
   ]
  },
  {
   "cell_type": "code",
   "execution_count": 14,
   "metadata": {},
   "outputs": [
    {
     "data": {
      "text/plain": [
       "array([[1.2461332],\n",
       "       [1.2482307],\n",
       "       [1.2603545],\n",
       "       [1.2784885],\n",
       "       [1.291962 ],\n",
       "       [1.2894864],\n",
       "       [1.2730621],\n",
       "       [1.2528358],\n",
       "       [1.2416657],\n",
       "       [1.2406973],\n",
       "       [1.2350235],\n",
       "       [1.2237668],\n",
       "       [1.2138095],\n",
       "       [1.2046863],\n",
       "       [1.20371  ],\n",
       "       [1.2095833],\n",
       "       [1.2300202],\n",
       "       [1.2607697],\n",
       "       [1.2944249],\n",
       "       [1.3265562],\n",
       "       [1.3363197],\n",
       "       [1.3288823],\n",
       "       [1.3042082],\n",
       "       [1.2722878],\n",
       "       [1.2460715],\n",
       "       [1.2338778],\n",
       "       [1.2341756],\n",
       "       [1.2364535],\n",
       "       [1.2294555],\n",
       "       [1.2175883],\n",
       "       [1.2044897],\n",
       "       [1.1898113],\n",
       "       [1.1678183],\n",
       "       [1.1411268],\n",
       "       [1.1322169],\n",
       "       [1.1451595],\n",
       "       [1.1702718],\n",
       "       [1.1965376],\n",
       "       [1.2196985],\n",
       "       [1.2289888],\n",
       "       [1.2392998],\n",
       "       [1.2536108],\n",
       "       [1.2712814],\n",
       "       [1.2878263],\n",
       "       [1.2985836],\n",
       "       [1.2989069],\n",
       "       [1.2874031],\n",
       "       [1.2783717],\n",
       "       [1.2775782],\n",
       "       [1.2860731],\n",
       "       [1.3018767],\n",
       "       [1.3117144],\n",
       "       [1.3136541],\n",
       "       [1.3095268],\n",
       "       [1.3075387],\n",
       "       [1.3036524],\n",
       "       [1.2948039],\n",
       "       [1.2910837],\n",
       "       [1.3021489],\n",
       "       [1.3225263],\n",
       "       [1.3504635],\n",
       "       [1.382818 ],\n",
       "       [1.4034536],\n",
       "       [1.4038246],\n",
       "       [1.3879323],\n",
       "       [1.3651667],\n",
       "       [1.3513907],\n",
       "       [1.3491277],\n",
       "       [1.3552307],\n",
       "       [1.3623806],\n",
       "       [1.3685843],\n",
       "       [1.3715843],\n",
       "       [1.366594 ],\n",
       "       [1.3598652],\n",
       "       [1.3546355],\n",
       "       [1.3535911],\n",
       "       [1.3563204],\n",
       "       [1.3620279],\n",
       "       [1.3748493],\n",
       "       [1.3937052],\n",
       "       [1.4175338],\n",
       "       [1.4394488],\n",
       "       [1.4503964],\n",
       "       [1.4499094],\n",
       "       [1.4524364],\n",
       "       [1.465676 ],\n",
       "       [1.4852865],\n",
       "       [1.5017635],\n",
       "       [1.5105915],\n",
       "       [1.5120016],\n",
       "       [1.5131646],\n",
       "       [1.5236231],\n",
       "       [1.5427573],\n",
       "       [1.5552157],\n",
       "       [1.5532119],\n",
       "       [1.5380291],\n",
       "       [1.5137751],\n",
       "       [1.487214 ],\n",
       "       [1.4664831],\n",
       "       [1.4612657],\n",
       "       [1.4709483],\n",
       "       [1.4899637],\n",
       "       [1.513399 ],\n",
       "       [1.5323597],\n",
       "       [1.5423263],\n",
       "       [1.5420241],\n",
       "       [1.536703 ],\n",
       "       [1.5311278],\n",
       "       [1.5314817],\n",
       "       [1.5377852],\n",
       "       [1.5484389],\n",
       "       [1.5625162],\n",
       "       [1.5761336],\n",
       "       [1.5902594],\n",
       "       [1.6077126],\n",
       "       [1.621964 ],\n",
       "       [1.6324266],\n",
       "       [1.6414126],\n",
       "       [1.6534158],\n",
       "       [1.6322767],\n",
       "       [1.5790434],\n",
       "       [1.5143212],\n",
       "       [1.4655381],\n",
       "       [1.4420263],\n",
       "       [1.4352226],\n",
       "       [1.4354478],\n",
       "       [1.4370168],\n",
       "       [1.4391626],\n",
       "       [1.4317471],\n",
       "       [1.4136289],\n",
       "       [1.4052922],\n",
       "       [1.4148086],\n",
       "       [1.4311084],\n",
       "       [1.4387522],\n",
       "       [1.439185 ],\n",
       "       [1.4364959],\n",
       "       [1.4301744],\n",
       "       [1.4200187],\n",
       "       [1.4090887],\n",
       "       [1.3947555],\n",
       "       [1.380092 ],\n",
       "       [1.3640476],\n",
       "       [1.3290824],\n",
       "       [1.2873881],\n",
       "       [1.2481732],\n",
       "       [1.219241 ],\n",
       "       [1.2093046],\n",
       "       [1.2199973],\n",
       "       [1.2431103],\n",
       "       [1.2685217],\n",
       "       [1.2926844],\n",
       "       [1.3113037],\n",
       "       [1.3247354],\n",
       "       [1.3363651],\n",
       "       [1.3457872],\n",
       "       [1.3546771],\n",
       "       [1.3653063],\n",
       "       [1.3741313],\n",
       "       [1.3706225],\n",
       "       [1.3545686],\n",
       "       [1.3317262],\n",
       "       [1.3107575],\n",
       "       [1.3011452],\n",
       "       [1.3066448],\n",
       "       [1.325127 ],\n",
       "       [1.3517023],\n",
       "       [1.3739849],\n",
       "       [1.389306 ],\n",
       "       [1.4021921],\n",
       "       [1.4141468],\n",
       "       [1.4241166],\n",
       "       [1.4323868],\n",
       "       [1.4391788],\n",
       "       [1.4416279],\n",
       "       [1.4399014],\n",
       "       [1.4307207],\n",
       "       [1.4195629],\n",
       "       [1.4127513],\n",
       "       [1.4087145],\n",
       "       [1.404659 ],\n",
       "       [1.4363183],\n",
       "       [1.4931198],\n",
       "       [1.5487654],\n",
       "       [1.5847565],\n",
       "       [1.5958122],\n",
       "       [1.5836719],\n",
       "       [1.5458046],\n",
       "       [1.5028161],\n",
       "       [1.4694451],\n",
       "       [1.4601723],\n",
       "       [1.4655043],\n",
       "       [1.4721919]], dtype=float32)"
      ]
     },
     "execution_count": 14,
     "metadata": {},
     "output_type": "execute_result"
    }
   ],
   "source": [
    "y_pred = model.predict(X_test)\n",
    "y_pred"
   ]
  },
  {
   "cell_type": "code",
   "execution_count": 15,
   "metadata": {},
   "outputs": [],
   "source": [
    "predicted_price = sc.inverse_transform(y_pred)"
   ]
  },
  {
   "cell_type": "code",
   "execution_count": 16,
   "metadata": {},
   "outputs": [
    {
     "data": {
      "image/png": "[encoded data removed]",
      "text/plain": [
       "<Figure size 432x288 with 1 Axes>"
      ]
     },
     "metadata": {
      "needs_background": "light"
     },
     "output_type": "display_data"
    }
   ],
   "source": [
    "plt.plot(y_test, color = 'red', label = 'Actual Stock Price')\n",
    "plt.plot(predicted_price, color = 'green', label = 'Predicted Stock Price')\n",
    "plt.title('Google stock price prediction')\n",
    "plt.xlabel('Time')\n",
    "plt.ylabel('Stock Price')\n",
    "plt.legend()\n",
    "plt.show()"
   ]
  },
  {
   "cell_type": "code",
   "execution_count": 2,
   "metadata": {},
   "outputs": [],
   "source": [
    "def estimate_coef(x, y):\n",
    "    def estimate_coef(x, y):\n",
    "        #number of observation/points\n",
    "        n = np.size(x)\n",
    "        # mean of x and y vector\n",
    "        m_x = np.mean(x)\n",
    "        m_y = np.mean(y)\n",
    "def plot_regression_line(x,y,b):\n",
    "    #plotting the actual points as scatter plot\n",
    "    plt.scatter(x,y, color = \"m\", marker = \"0\", s = 30)\n",
    "    #predict response vector\n",
    "    y_pred = b[0] + b[1]*x\n",
    "    #plotting the regression line\n",
    "    plt.plot(x,y_pred, color = \"g\")\n",
    "    #putting labels\n",
    "    plt.xlabel('x')\n",
    "    plt.ylabel('y')\n",
    "    # function to show plot\n",
    "    plt.show()    "
   ]
  },
  {
   "cell_type": "code",
   "execution_count": null,
   "metadata": {},
   "outputs": [],
   "source": []
  }
 ],
 "metadata": {
  "interpreter": {
   "hash": "f9c6415cfdf9963ef79d07abeef148eb8a5ae08b72d4029edaff7cfa45f9ea89"
  },
  "kernelspec": {
   "display_name": "Python 3.8.2 64-bit",
   "language": "python",
   "name": "python3"
  },
  "language_info": {
   "codemirror_mode": {
    "name": "ipython",
    "version": 3
   },
   "file_extension": ".py",
   "mimetype": "text/x-python",
   "name": "python",
   "nbconvert_exporter": "python",
   "pygments_lexer": "ipython3",
   "version": "3.8.2"
  }
 },
 "nbformat": 4,
 "nbformat_minor": 4
}
